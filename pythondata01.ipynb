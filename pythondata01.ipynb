{
  "nbformat": 4,
  "nbformat_minor": 0,
  "metadata": {
    "colab": {
      "name": "pythondata01.ipynb",
      "version": "0.3.2",
      "provenance": []
    },
    "kernelspec": {
      "name": "python3",
      "display_name": "Python 3"
    }
  },
  "cells": [
    {
      "metadata": {
        "id": "UhZV7Zu7mwX0",
        "colab_type": "code",
        "colab": {}
      },
      "cell_type": "code",
      "source": [
        "import numpy as np\n",
        "import pandas as pd\n",
        "import matplotlib.pyplot as plt\n",
        "#インライン宣言\n",
        "%matplotlib inline\n",
        "\n",
        "pytable = [\n",
        "[880,\"交通費\",\"2019/02/01\"],\n",
        "[780,\"外食代\",\"2019/02/01\"],\n",
        "[120,\"飲料水代\",\"2019/02/01\"],\n",
        "[2980,\"自宅備品代\",\"2019/02/02\"],\n",
        "[480,\"嗜好品代\",\"2019/02/03\"],\n",
        "[160,\"飲料水代\",\"2019/02/03\"],\n",
        "[1280,\"外食代\",\"2019/02/03\"],\n",
        "[3820,\"携帯利用料\",\"2019/02/05\"],\n",
        "[780,\"外食代\",\"2019/02/05\"],\n",
        "[120,\"飲料水代\",\"2019/02/07\"]\n",
        "]"
      ],
      "execution_count": 0,
      "outputs": []
    },
    {
      "metadata": {
        "id": "50OhEOuODzeK",
        "colab_type": "code",
        "colab": {}
      },
      "cell_type": "code",
      "source": [
        ""
      ],
      "execution_count": 0,
      "outputs": []
    }
  ]
}